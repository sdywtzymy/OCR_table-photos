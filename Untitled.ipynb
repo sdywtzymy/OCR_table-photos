{
 "cells": [
  {
   "cell_type": "code",
   "execution_count": 1,
   "metadata": {},
   "outputs": [],
   "source": [
    "import cnocr\n"
   ]
  },
  {
   "cell_type": "code",
   "execution_count": 6,
   "metadata": {},
   "outputs": [
    {
     "name": "stdout",
     "output_type": "stream",
     "text": [
      "Predicted Chars: [['领', '‘', '受', '表'], [';']]\n"
     ]
    }
   ],
   "source": [
    "ocr = cnocr.CnOcr()\n",
    "res = ocr.ocr('sample_2.jpg')\n",
    "print(\"Predicted Chars:\", res)"
   ]
  },
  {
   "cell_type": "code",
   "execution_count": 5,
   "metadata": {},
   "outputs": [
    {
     "name": "stdout",
     "output_type": "stream",
     "text": [
      "Predicted Chars: [['领', '受', '表'], ['就']]\n"
     ]
    }
   ],
   "source": [
    "import mxnet as mx\n",
    "from cnocr import CnOcr\n",
    "ocr = CnOcr()\n",
    "img_fp = 'sample_1.jpg'\n",
    "img = mx.image.imread(img_fp, 1)\n",
    "res = ocr.ocr(img)\n",
    "print(\"Predicted Chars:\", res)"
   ]
  },
  {
   "cell_type": "code",
   "execution_count": null,
   "metadata": {},
   "outputs": [],
   "source": []
  },
  {
   "cell_type": "code",
   "execution_count": null,
   "metadata": {},
   "outputs": [],
   "source": []
  }
 ],
 "metadata": {
  "kernelspec": {
   "display_name": "Python 3",
   "language": "python",
   "name": "python3"
  },
  "language_info": {
   "codemirror_mode": {
    "name": "ipython",
    "version": 3
   },
   "file_extension": ".py",
   "mimetype": "text/x-python",
   "name": "python",
   "nbconvert_exporter": "python",
   "pygments_lexer": "ipython3",
   "version": "3.7.3"
  }
 },
 "nbformat": 4,
 "nbformat_minor": 2
}
